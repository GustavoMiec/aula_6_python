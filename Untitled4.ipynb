{
  "nbformat": 4,
  "nbformat_minor": 0,
  "metadata": {
    "colab": {
      "provenance": [],
      "authorship_tag": "ABX9TyNeKVgPIm95t4o7YFrrd+FG",
      "include_colab_link": true
    },
    "kernelspec": {
      "name": "python3",
      "display_name": "Python 3"
    },
    "language_info": {
      "name": "python"
    }
  },
  "cells": [
    {
      "cell_type": "markdown",
      "metadata": {
        "id": "view-in-github",
        "colab_type": "text"
      },
      "source": [
        "<a href=\"https://colab.research.google.com/github/GustavoMiec/aula_6_python/blob/main/Untitled4.ipynb\" target=\"_parent\"><img src=\"https://colab.research.google.com/assets/colab-badge.svg\" alt=\"Open In Colab\"/></a>"
      ]
    },
    {
      "cell_type": "code",
      "execution_count": null,
      "metadata": {
        "id": "EKITUz1onnjH"
      },
      "outputs": [],
      "source": [
        "arq = open(\"arq01.txt\", \"w\", encoding=\"utf-8\")\n",
        "for i in range(1,10):\n",
        "    arq.write(f\"linha{i}\\n\")\n",
        "arq.close()"
      ]
    },
    {
      "cell_type": "code",
      "source": [
        "arq = open(\"arq2.txt\",\"w\", encoding=\"utf-8\")\n",
        "lista = [\"edson\", 49,\"Rua tal, 67\"]\n",
        "arq.write(f\"Gravaçao da lista Bruta: {lista}\\n\")\n",
        "arq.write(f\"nome...................:{lista[0]}\\n\")\n",
        "arq.write(f\"idade..................:{lista[1]}\\n\")\n",
        "arq.write(f\"Endereco...............:{lista[2]}\\n\")\n",
        "arq.close()"
      ],
      "metadata": {
        "id": "WbUxiOiFnsAQ"
      },
      "execution_count": null,
      "outputs": []
    },
    {
      "cell_type": "code",
      "source": [
        "arq = open(\"arq3.txt\",\"w\", encoding=\"utf-8\")\n",
        "contato = {\n",
        "    'nome' : 'Edson de Oliveira',\n",
        "    'idade' : 49,\n",
        "    'endereco': \"Rua tal, 150\"\n",
        "}\n",
        "\n",
        "\n",
        "arq.write(f\"gravaçao do dicionario Bruta:{contato}\\n\")\n",
        "arq.write(f\"nome.........: {contato['nome']}\\n\")\n",
        "arq.write(f\"idade........: {contato['idade']}\\n\")\n",
        "arq.write(f\"endereco......: {contato['endereco']}\\n\")\n",
        "arq.close()\n",
        "print(\"arquivo gravando com sucesso!\")"
      ],
      "metadata": {
        "colab": {
          "base_uri": "https://localhost:8080/"
        },
        "id": "aklpHiDook9C",
        "outputId": "a8bf2961-4af7-4bf4-9a26-20b7b160acce"
      },
      "execution_count": null,
      "outputs": [
        {
          "output_type": "stream",
          "name": "stdout",
          "text": [
            "arquivo gravando com sucesso!\n"
          ]
        }
      ]
    },
    {
      "cell_type": "code",
      "source": [
        "arq = open(\"arq3.txt\",\"r\", encoding=\"utf-8\")\n",
        "print(arq.read())\n",
        "arq.close()"
      ],
      "metadata": {
        "id": "86ZGl9-usWng"
      },
      "execution_count": null,
      "outputs": []
    },
    {
      "cell_type": "code",
      "source": [
        "arq = open(\"arq3.txt\",\"r\", encoding=\"utf-8\")\n",
        "arq.write(\"nova linha.\\n\")\n",
        "arq.close()"
      ],
      "metadata": {
        "id": "vCaT4wyAsziR"
      },
      "execution_count": null,
      "outputs": []
    },
    {
      "cell_type": "code",
      "source": [
        "arq = open(\"arq3.txt\",\"r\", encoding=\"utf-8\")\n",
        "arq.write(\"E Agora?.\\n\")\n",
        "arq.close()"
      ],
      "metadata": {
        "id": "OcOOWodyrGNy"
      },
      "execution_count": null,
      "outputs": []
    },
    {
      "cell_type": "code",
      "source": [
        "arq = open(\"arq5.txt\",\"w\", encoding=\"utf-8\")\n",
        "contato = dict()\n",
        "contato['rm'] = input(\"RM............: \")\n",
        "contato['nome'] = input(\"nome........: \")\n",
        "contato['turma'] = input(\"turma......: \")\n",
        "contato['curso'] = input(\"curso......: \")\n",
        "\n",
        "arq.write(f\"rm......:{contato['rm']}\\n\")\n",
        "arq.write(f\"nome....:{contato['nome']}\\n\")\n",
        "arq.write(f\"turma...:{contato['turma']}\\n\")\n",
        "arq.write(f\"curso...:{contato['curso']}\\n\")\n",
        "arq.close()\n",
        "print(\"arquivo gravado com sucesso.\")"
      ],
      "metadata": {
        "colab": {
          "base_uri": "https://localhost:8080/"
        },
        "id": "rM5Im_feuvmW",
        "outputId": "2ee311f7-a58a-49fb-e361-3db8e28d9358"
      },
      "execution_count": null,
      "outputs": [
        {
          "output_type": "stream",
          "name": "stdout",
          "text": [
            "RM............: 9999999\n",
            "nome........: Gustavo\n",
            "turma......: n\n",
            "curso......: ads\n",
            "arquivo gravado com sucesso.\n"
          ]
        }
      ]
    },
    {
      "cell_type": "code",
      "source": [
        "arq = open(\"arq6.txt\",\"w+\", encoding=\"utf-8\")\n",
        "arq.write(\"linha 1\\n\")\n",
        "arq.write(\"linha 2\\n\")\n",
        "arq.write(\"linha 3\\n\")\n",
        "arq.seek(0)\n",
        "print(arq.read())\n",
        "arq.seek(0)\n",
        "print(arq.readline())\n",
        "arq.close()"
      ],
      "metadata": {
        "colab": {
          "base_uri": "https://localhost:8080/"
        },
        "id": "LpbyYDW7v-tc",
        "outputId": "8462799f-c3da-45ee-9185-c5f687cebc6d"
      },
      "execution_count": null,
      "outputs": [
        {
          "output_type": "stream",
          "name": "stdout",
          "text": [
            "ha 1\n",
            "linha 2\n",
            "linha 3\n",
            "\n"
          ]
        },
        {
          "output_type": "execute_result",
          "data": {
            "text/plain": [
              "<function TextIOWrapper.close()>"
            ]
          },
          "metadata": {},
          "execution_count": 15
        }
      ]
    },
    {
      "cell_type": "code",
      "source": [],
      "metadata": {
        "id": "k-cnP1FYyCfE"
      },
      "execution_count": null,
      "outputs": []
    }
  ]
}